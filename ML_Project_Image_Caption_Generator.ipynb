{
  "nbformat": 4,
  "nbformat_minor": 0,
  "metadata": {
    "colab": {
      "name": "ML Project Image Caption Generator.ipynb",
      "provenance": [],
      "collapsed_sections": []
    },
    "kernelspec": {
      "name": "python3",
      "display_name": "Python 3"
    },
    "language_info": {
      "name": "python"
    },
    "accelerator": "GPU"
  },
  "cells": [
    {
      "cell_type": "code",
      "metadata": {
        "id": "_CRJeUX9iGkU"
      },
      "source": [
        "import string\n",
        "from tensorflow.keras.utils import plot_model\n",
        "from os import listdir\n",
        "from tensorflow.keras.layers import Dropout\n",
        "from tensorflow.keras.preprocessing.sequence import pad_sequences\n",
        "from tensorflow.keras.applications.vgg16 import preprocess_input\n",
        "from tensorflow.keras.layers import Embedding\n",
        "from tensorflow.keras.preprocessing.image import img_to_array\n",
        "from tensorflow.keras.applications.vgg16 import VGG16\n",
        "from tensorflow.keras.layers import LSTM\n",
        "from tensorflow.keras.utils import to_categorical\n",
        "from tensorflow.keras.layers import Input\n",
        "from tensorflow.keras.models import Model, load_model\n",
        "from tensorflow.keras.layers import Add\n",
        "from pickle import load,dump\n",
        "from tensorflow.keras.callbacks import ModelCheckpoint\n",
        "from tensorflow.keras.preprocessing.image import load_img\n",
        "from numpy import array, argmax\n",
        "from nltk.translate.bleu_score import corpus_bleu\n",
        "from tensorflow.keras.layers import Dense\n",
        "from tensorflow.keras.preprocessing.text import Tokenizer\n"
      ],
      "execution_count": null,
      "outputs": []
    },
    {
      "cell_type": "code",
      "metadata": {
        "id": "xXXr-u8CnEl2"
      },
      "source": [
        "# from google.colab import drive\n",
        "# drive.mount('/content/drive')"
      ],
      "execution_count": null,
      "outputs": []
    },
    {
      "cell_type": "code",
      "metadata": {
        "id": "hl3ncvKHk0Gl"
      },
      "source": [
        " def feature_extraction(dir):\n",
        "\tmodel=VGG16()\n",
        "\tmodel=Model(inputs=model.Input,outputs=model.layers[-2].output)\n",
        "\tprint(model.summary())\n",
        "\tfeat=dict()\n",
        "\tfor nm in listdir(dir):\n",
        "\t\tf_name=dir + '/' + nm\n",
        "\t\tpict=load_img(f_name, target_size=(224, 224))\n",
        "\t\tpict=img_to_array(pict)\n",
        "\t\tpict=pict.reshape((1,pict.shape[0],pict.shape[1],pict.shape[2]))\n",
        "\t\tpict=preprocess_input(pict)\n",
        "\t\tfeatr=model.predict(pict,verbose=0)\n",
        "\t\tpict_id=nm.split('.')[0]\n",
        "\t\tfeat[pict_id]=featr\n",
        "\t\tprint('>%s'%nm)\n",
        "\treturn feat"
      ],
      "execution_count": null,
      "outputs": []
    },
    {
      "cell_type": "code",
      "metadata": {
        "id": "b3HxN5y5k5Sf",
        "colab": {
          "base_uri": "https://localhost:8080/",
          "height": 69
        },
        "outputId": "1112ed0c-dd3e-426b-fb52-b7e4dfec2f12"
      },
      "source": [
        "'''\n",
        "This code section is used to generate features. Generated features are already saved into features.pkl\n",
        "dir = '/content/drive/MyDrive/Colab_Notebooks/archive/Images'\n",
        "feat = feature_extraction(dir)\n",
        "print('Extracted Features: %d'%len(feat))\n",
        "'''"
      ],
      "execution_count": null,
      "outputs": [
        {
          "output_type": "execute_result",
          "data": {
            "application/vnd.google.colaboratory.intrinsic+json": {
              "type": "string"
            },
            "text/plain": [
              "\"\\nThis code section is used to generate features. Generated features are already saved into features.pkl\\ndir = '/content/drive/MyDrive/Colab_Notebooks/archive/Images'\\nfeat = feature_extraction(dir)\\nprint('Extracted Features: %d'%len(feat))\\n\""
            ]
          },
          "metadata": {},
          "execution_count": 4
        }
      ]
    },
    {
      "cell_type": "code",
      "metadata": {
        "id": "zODs5PnOKMfC"
      },
      "source": [
        "#dump(feat, open('/content/drive/MyDrive/Colab_Notebooks/archive/features.pkl', 'wb'))"
      ],
      "execution_count": null,
      "outputs": []
    },
    {
      "cell_type": "code",
      "metadata": {
        "id": "f-DsDH7ziYp3"
      },
      "source": [
        "def document_loading(f_name):\n",
        "\tfile=open(f_name,'r')\n",
        "\ttxt=file.read()\n",
        "\tfile.close()\n",
        "\treturn txt"
      ],
      "execution_count": null,
      "outputs": []
    },
    {
      "cell_type": "code",
      "metadata": {
        "id": "o8ljtOqLnhMR"
      },
      "source": [
        "def decs_load(doc):\n",
        "\tmap_desc=dict()\n",
        "\tfor ln in doc.split('\\n'):\n",
        "\t\ttkn=ln.split()\n",
        "\t\tif len(ln)<2:\n",
        "\t\t\tcontinue\n",
        "\t\tpict_id,pict_desc=tkn[0],tkn[1:]\n",
        "\t\tpict_id=pict_id.split('.')[0]\n",
        "\t\tpict_desc = ' '.join(pict_desc)\n",
        "\t\tif pict_id not in map_desc:\n",
        "\t\t\tmap_desc[pict_id]=list()\n",
        "\t\tmap_desc[pict_id].append(pict_desc)\n",
        "\treturn map_desc"
      ],
      "execution_count": null,
      "outputs": []
    },
    {
      "cell_type": "code",
      "metadata": {
        "id": "YUfY0cump-QB"
      },
      "source": [
        "def desc_cleaning(descs):\n",
        "\ttb=str.maketrans('', '', string.punctuation)\n",
        "\tfor k, desc_list in descs.items():\n",
        "\t\tfor i in range(len(desc_list)):\n",
        "\t\t\tdesc=desc_list[i]\n",
        "\t\t\tdesc=desc.split()\n",
        "\t\t\tdesc=[wd.lower() for wd in desc]\t\t\t\n",
        "\t\t\tdesc=[w.translate(tb) for w in desc]\t\t\t\n",
        "\t\t\tdesc=[wd for wd in desc if len(wd)>1]\n",
        "\t\t\tdesc=[wd for wd in desc if wd.isalpha()]\n",
        "\t\t\tdesc_list[i] =  ' '.join(desc)"
      ],
      "execution_count": null,
      "outputs": []
    },
    {
      "cell_type": "code",
      "metadata": {
        "id": "echxevrdqDYN"
      },
      "source": [
        "def vocab_conv(descs):\n",
        "\tdesc_all=set()\n",
        "\tfor k in descs.keys():\n",
        "\t\t[desc_all.update(d.split()) for d in descs[k]]\n",
        "\treturn desc_all"
      ],
      "execution_count": null,
      "outputs": []
    },
    {
      "cell_type": "code",
      "metadata": {
        "id": "3O1pBp9rqGG9"
      },
      "source": [
        "def desc_saving(descs,f_name):\n",
        "\tlns=list()\n",
        "\tfor k,desc_list in descs.items():\n",
        "\t\tfor desc in desc_list:\n",
        "\t\t\tlns.append(k+' '+desc)\n",
        "\tdta='\\n'.join(lns)\n",
        "\tfile=open(f_name,'w')\n",
        "\tfile.write(dta)\n",
        "\tfile.close()"
      ],
      "execution_count": null,
      "outputs": []
    },
    {
      "cell_type": "code",
      "metadata": {
        "id": "sF2RLz7_qIxp"
      },
      "source": [
        "f_name='C:/Users/Kunj/Downloads/recommender/Flickr8k.token.txt'\n",
        "doc = document_loading(f_name)"
      ],
      "execution_count": null,
      "outputs": []
    },
    {
      "cell_type": "code",
      "metadata": {
        "id": "WtFAys6IqNjC"
      },
      "source": [
        "descs=decs_load(doc)\n",
        "print('Loaded: %d '%len(descs))\n",
        "desc_cleaning(descs)"
      ],
      "execution_count": null,
      "outputs": []
    },
    {
      "cell_type": "code",
      "metadata": {
        "id": "3vetnP6cqTEO"
      },
      "source": [
        "vblry=vocab_conv(descs)\n",
        "print('Vocabulary Size: %d'%len(vblry))"
      ],
      "execution_count": null,
      "outputs": []
    },
    {
      "cell_type": "code",
      "metadata": {
        "id": "QeiZQyq1qVW1"
      },
      "source": [
        "desc_saving(descs,'descriptions.txt')"
      ],
      "execution_count": null,
      "outputs": []
    },
    {
      "cell_type": "code",
      "metadata": {
        "id": "hSAFSduGieCX"
      },
      "source": [
        "def dset_load(f_name):\n",
        "\tdoc = document_loading(f_name)\n",
        "\tdset = list()\n",
        "\tfor ln in doc.split('\\n'):\n",
        "\t\tif len(ln)<1:\n",
        "\t\t\tcontinue\n",
        "\t\tidf=ln.split('.')[0]\n",
        "\t\tdset.append(idf)\n",
        "\treturn set(dset)"
      ],
      "execution_count": null,
      "outputs": []
    },
    {
      "cell_type": "code",
      "metadata": {
        "id": "N1a_E9gPikw5"
      },
      "source": [
        "def cleaned_desc_load(f_name,dset):\n",
        "\tdoc=document_loading(f_name)\n",
        "\tdescs=dict()\n",
        "\tfor ln in doc.split('\\n'):\n",
        "\t\ttkn=ln.split()\n",
        "\t\tpict_id,pict_desc=tkn[0],tkn[1:]\n",
        "\t\tif pict_id in dset:\n",
        "\t\t\tif pict_id not in descs:\n",
        "\t\t\t\tdescs[pict_id]=list()\n",
        "\t\t\tdesc='startingsequence ' + ' '.join(pict_desc) + ' endingsequence'\n",
        "\t\t\tdescs[pict_id].append(desc)\n",
        "\treturn descs"
      ],
      "execution_count": null,
      "outputs": []
    },
    {
      "cell_type": "code",
      "metadata": {
        "id": "qlAj19AoiqG0"
      },
      "source": [
        "def img_features_load(f_name,dset):\n",
        "\tallfeatr=load(open(f_name,'rb'))\n",
        "\tftrs={k: allfeatr[k] for k in dset}\n",
        "\treturn ftrs"
      ],
      "execution_count": null,
      "outputs": []
    },
    {
      "cell_type": "code",
      "metadata": {
        "id": "JGilf7D0ivQ4"
      },
      "source": [
        "def into_lns(descs):\n",
        "\tdesc_all=list()\n",
        "\tfor k in descs.keys():\n",
        "\t\t[desc_all.append(d) for d in descs[k]]\n",
        "\treturn desc_all"
      ],
      "execution_count": null,
      "outputs": []
    },
    {
      "cell_type": "code",
      "metadata": {
        "id": "78HJlwBQiy3f"
      },
      "source": [
        "def generate_Tokenizer(descs):\n",
        "\tlns=into_lns(descs)\n",
        "\ttokenizer=Tokenizer()\n",
        "\ttokenizer.fit_on_texts(lns)\n",
        "\treturn tokenizer"
      ],
      "execution_count": null,
      "outputs": []
    },
    {
      "cell_type": "code",
      "metadata": {
        "id": "oT2RfJYii2Zx"
      },
      "source": [
        "def most_lngth(descs):\n",
        "  lns=into_lns(descs)\n",
        "  max_lngth=max(len(d.split()) for d in lns)\n",
        "  return max_lngth"
      ],
      "execution_count": null,
      "outputs": []
    },
    {
      "cell_type": "code",
      "metadata": {
        "id": "UExhWGsIi8iJ"
      },
      "source": [
        "def build_seq(tokenizer,most_lngth,desc_list,photo,vocb_size):\n",
        "\taa1,aa2,y=list(),list(),list()\n",
        "\tfor desc in desc_list:\n",
        "\t\tseq=tokenizer.texts_to_sequences([desc])[0]\n",
        "\t\tfor i in range(1, len(seq)):\n",
        "\t\t\tinput_sequence,output_sequence=seq[:i],seq[i]\n",
        "\t\t\tinput_sequence=pad_sequences([input_sequence],maxlen=most_lngth)[0]\n",
        "\t\t\toutput_sequence=to_categorical([output_sequence],num_classes=vocb_size)[0]\n",
        "\t\t\taa1.append(photo)\n",
        "\t\t\taa2.append(input_sequence)\n",
        "\t\t\ty.append(output_sequence)\n",
        "\treturn array(aa1),array(aa2),array(y)"
      ],
      "execution_count": null,
      "outputs": []
    },
    {
      "cell_type": "code",
      "metadata": {
        "id": "zxozCNhHjBe3"
      },
      "source": [
        "def defn_modl(vocb_size,most_lngth):\n",
        "\tinp1=Input(shape=(4096,))\n",
        "\tfe1=Dropout(0.5)(inp1)\n",
        "\tfe2=Dense(256,activation='relu')(fe1)\n",
        "\tinp2=Input(shape=(most_lngth,))\n",
        "\tese1=Embedding(vocb_size,256,mask_zero=True)(inp2)\n",
        "\tese2=Dropout(0.5)(ese1)\n",
        "\tese3=LSTM(256)(ese2)\n",
        "\tdec1=Add()([fe2,ese3])\n",
        "\tdec2=Dense(256,activation='relu')(dec1)\n",
        "\toupts=Dense(vocb_size,activation='softmax')(dec2)\n",
        "\tmodel=Model(inputs=[inp1, inp2],outputs=oupts)\n",
        "\tmodel.compile(loss='categorical_crossentropy',optimizer='adam')\n",
        "\tmodel.summary()\n",
        "\tplot_model(model,to_file='model.png',show_shapes=True)\n",
        "\treturn model"
      ],
      "execution_count": null,
      "outputs": []
    },
    {
      "cell_type": "code",
      "metadata": {
        "id": "el97Gq6TjGdT"
      },
      "source": [
        "def data_creator(descs,photos,tokenizer,most_lngth,vocb_size):\n",
        "\twhile 1:\n",
        "\t\tfor k, desc_list in descs.items():\n",
        "\t\t\tphoto=photos[k][0]\n",
        "\t\t\tin_img,input_sequence,out_word=build_seq(tokenizer,most_lngth,desc_list,photo,vocb_size)\n",
        "\t\t\tyield [in_img,input_sequence],out_word"
      ],
      "execution_count": null,
      "outputs": []
    },
    {
      "cell_type": "code",
      "metadata": {
        "id": "RuhxMuZajJQj"
      },
      "source": [
        "f_name='C:/Users/Kunj/Downloads/recommender/Flickr_8k.trainImages.txt'\n",
        "train=dset_load(f_name)\n",
        "print('Dataset: %d'%len(train))"
      ],
      "execution_count": null,
      "outputs": []
    },
    {
      "cell_type": "code",
      "metadata": {
        "id": "hW09VlkMjM6A"
      },
      "source": [
        "train_desc=cleaned_desc_load('descriptions.txt',train)\n",
        "print('Descriptions: train=%d'%len(train_desc))"
      ],
      "execution_count": null,
      "outputs": []
    },
    {
      "cell_type": "code",
      "metadata": {
        "id": "oW6-8VqVjPTd"
      },
      "source": [
        "train_feat=img_features_load('C:/Users/Kunj/Downloads/recommender/features.pkl',train)\n",
        "print('Photos: train=%d'%len(train_feat))"
      ],
      "execution_count": null,
      "outputs": []
    },
    {
      "cell_type": "code",
      "metadata": {
        "id": "ATPtY1SsjRdD"
      },
      "source": [
        "tokenizer=generate_Tokenizer(train_desc)\n",
        "vocb_size=len(tokenizer.word_index)+1\n",
        "print('Size of Vocabulary=%d'%vocb_size)"
      ],
      "execution_count": null,
      "outputs": []
    },
    {
      "cell_type": "code",
      "metadata": {
        "id": "bl1Lit8LjTp7"
      },
      "source": [
        "most_lngth=most_lngth(train_desc)\n",
        "print('Description Length: %d'%most_lngth)"
      ],
      "execution_count": null,
      "outputs": []
    },
    {
      "cell_type": "code",
      "metadata": {
        "id": "2iC-1ogfjW9Z"
      },
      "source": [
        "model=defn_modl(vocb_size,most_lngth)"
      ],
      "execution_count": null,
      "outputs": []
    },
    {
      "cell_type": "code",
      "metadata": {
        "id": "cLutMAwXjarL"
      },
      "source": [
        "# epochs=20\n",
        "# stps=len(train_desc)\n",
        "# for i in range(epochs):\n",
        "# \tgenerator=data_creator(train_desc,train_feat,tokenizer,most_lngth,vocb_size)\n",
        "# \tmodel.fit_generator(generator,epochs=1,steps_per_epoch=stps,verbose=1)\n",
        "# \tmodel.save(\"model_'+str(i)+'.h5\")"
      ],
      "execution_count": null,
      "outputs": []
    },
    {
      "cell_type": "code",
      "metadata": {
        "id": "UYfIS43qKn2N"
      },
      "source": [
        "def word_for_id(itgr,tokenizer):\n",
        "  tkzz=tokenizer\n",
        "\tfor word,index in tkzz.word_index.items():\n",
        "\t\tif index==itgr:\n",
        "\t\t\treturn word\n",
        "\treturn None\n",
        "\n",
        "def generate_desc(model,tkzz,photo,maxim_lgth):\n",
        "\tin_text='startingsequence'\n",
        "\tfor i in range(maxim_lgth):\n",
        "\t\tsequence=tkzz.texts_to_sequences([in_text])[0]\n",
        "\t\tsequence=pad_sequences([sequence],maxlen=maxim_lgth)\n",
        "\t\tyhat=model.predict([photo,sequence],verbose=0)\n",
        "\t\tyhat=argmax(yhat)\n",
        "\t\tword=word_for_id(yhat,tkzz)\n",
        "\t\tif word is None:\n",
        "\t\t\tbreak\n",
        "\t\tin_text+=' '+word\n",
        "\t\tif word=='endingsequence':\n",
        "\t\t\tbreak\n",
        "\treturn in_text"
      ],
      "execution_count": null,
      "outputs": []
    },
    {
      "cell_type": "code",
      "metadata": {
        "id": "L_qRPdoVXQ9w"
      },
      "source": [
        "def model_evaluation(model,descriptions,photos,tokenizer,maxim_lgth):\n",
        "\tactual, predicted=list(),list()\n",
        "\tfor key,desc_list in descriptions.items():\n",
        "\t\tyhat=generate_desc(model,tokenizer,photos[key],maxim_lgth)\n",
        "\t\treferences=[d.split() for d in desc_list]\n",
        "\t\tactual.append(references)\n",
        "\t\tpredicted.append(yhat.split())\n",
        "\tprint('BLEU-1:%f'%corpus_bleu(actual,predicted,weights=(1.0,0,0,0)))\n",
        "\tprint('BLEU-2:%f'%corpus_bleu(actual,predicted,weights=(0.5,0.5,0,0)))\n",
        "\tprint('BLEU-3:%f'%corpus_bleu(actual,predicted,weights=(0.3,0.3,0.3,0)))\n",
        "\tprint('BLEU-4:%f'%corpus_bleu(actual,predicted,weights=(0.25,0.25,0.25,0.25)))"
      ],
      "execution_count": null,
      "outputs": []
    },
    {
      "cell_type": "code",
      "metadata": {
        "id": "SY4QsfCUX4Oq"
      },
      "source": [
        "name_of_file='C:/Users/Kunj/Downloads/recommender/Flickr_8k.testImages.txt'\n",
        "test=dset_load(name_of_file)\n",
        "print('Dataset: %d'%len(test))\n",
        "test_descriptions=cleaned_desc_load('C:/Users/Kunj/Downloads/recommender/descriptions.txt',test)\n",
        "print('Descriptions: test=%d'%len(test_descriptions))\n",
        "test_features=img_features_load('C:/Users/Kunj/Downloads/recommender/features.pkl',test)\n",
        "print('Photos: test=%d'%len(test_features))\n",
        "name_of_file='C:/Users/Kunj/Downloads/recommender/model/model_19.h5'\n",
        "model=load_model(name_of_file)\n",
        "print(\"evaluation start\")\n",
        "model_evaluation(model,test_descriptions,test_features,tokenizer,most_lngth)"
      ],
      "execution_count": null,
      "outputs": []
    },
    {
      "cell_type": "code",
      "metadata": {
        "id": "q7vkJn2ycOgc"
      },
      "source": [
        "name_of_file='C:/Users/Kunj/Downloads/recommender/Flickr_8k.trainImages.txt'\n",
        "train=dset_load(name_of_file)\n",
        "print('Dataset: %d'%len(train))\n",
        "train_descriptions=cleaned_desc_load('C:/Users/Kunj/Downloads/recommender/descriptions.txt',train)\n",
        "print('Descriptions: train=%d'%len(train_descriptions))\n",
        "tokenizer=generate_Tokenizer(train_descriptions)\n",
        "dump(tokenizer,open('C:/Users/Kunj/Downloads/recommender/tokenizer.pkl','wb'))"
      ],
      "execution_count": null,
      "outputs": []
    },
    {
      "cell_type": "code",
      "metadata": {
        "id": "mSdehmUypG8x"
      },
      "source": [
        "tokenizer=load(open('C:/Users/Kunj/Downloads/recommender/tokenizer.pkl','rb'))\n",
        "maxim_lgth=34   "
      ],
      "execution_count": null,
      "outputs": []
    },
    {
      "cell_type": "code",
      "metadata": {
        "id": "wfCSNdBkpOUY"
      },
      "source": [
        "model=load_model('C:/Users/Kunj/Downloads/recommender/model/model_19.h5')"
      ],
      "execution_count": null,
      "outputs": []
    },
    {
      "cell_type": "code",
      "metadata": {
        "id": "vnyPgBvSpmkD"
      },
      "source": [
        "def extract_features(name_of_file):\n",
        "\tmodel=VGG16()\n",
        "\tmodel=Model(inputs=model.inputs,outputs=model.layers[-2].output)\n",
        "  image=load_img(name_of_file,target_size=(224,224))\n",
        "\timage=img_to_array(image)\n",
        "\timage=image.reshape((1,image.shape[0],image.shape[1],image.shape[2]))\n",
        "\timage=preprocess_input(image)\n",
        "\tfeature=model.predict(image,verbose=0)\n",
        "\treturn feature\n",
        "photo=extract_features('C:/Users/Kunj/Downloads/recommender/example.jpg')\n",
        "padding_words=['startingsequence','endingsequence']\n",
        "description=generate_desc(model,tokenizer,photo,maxim_lgth)\n",
        "print(description)"
      ],
      "execution_count": null,
      "outputs": []
    }
  ]
}